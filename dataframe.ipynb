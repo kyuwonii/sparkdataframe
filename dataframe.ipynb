{
 "cells": [
  {
   "cell_type": "code",
   "execution_count": 1,
   "id": "e2985855",
   "metadata": {},
   "outputs": [
    {
     "data": {
      "text/html": [
       "\n",
       "        <div>\n",
       "            <p><b>SparkContext</b></p>\n",
       "\n",
       "            <p><a href=\"http://10.0.2.15:4040\">Spark UI</a></p>\n",
       "\n",
       "            <dl>\n",
       "              <dt>Version</dt>\n",
       "                <dd><code>v3.1.2</code></dd>\n",
       "              <dt>Master</dt>\n",
       "                <dd><code>local[*]</code></dd>\n",
       "              <dt>AppName</dt>\n",
       "                <dd><code>PySparkShell</code></dd>\n",
       "            </dl>\n",
       "        </div>\n",
       "        "
      ],
      "text/plain": [
       "<SparkContext master=local[*] appName=PySparkShell>"
      ]
     },
     "execution_count": 1,
     "metadata": {},
     "output_type": "execute_result"
    }
   ],
   "source": [
    "sc"
   ]
  },
  {
   "cell_type": "markdown",
   "id": "8dea60d6",
   "metadata": {},
   "source": [
    "### import"
   ]
  },
  {
   "cell_type": "code",
   "execution_count": 5,
   "id": "dc6fc34d",
   "metadata": {},
   "outputs": [],
   "source": [
    "from pyspark.sql import SQLContext\n",
    "import json\n",
    "sqlCtx = SQLContext(sc)"
   ]
  },
  {
   "cell_type": "markdown",
   "id": "58d20b6f",
   "metadata": {},
   "source": [
    "### Dataframe making1 - with spark session"
   ]
  },
  {
   "cell_type": "code",
   "execution_count": 12,
   "id": "d1404e8e",
   "metadata": {},
   "outputs": [
    {
     "data": {
      "text/plain": [
       "DataFrame[brand: string, models: map<string,string>]"
      ]
     },
     "execution_count": 12,
     "metadata": {},
     "output_type": "execute_result"
    }
   ],
   "source": [
    "#SQLContext has SparkSession createDataFrame\n",
    "#json file -> Rdd -> make dataframe\n",
    "\n",
    "jsonRDD = inputJson = sc.textFile(\"./cars.json\") \\\n",
    "                        .map(lambda x: json.loads(x))\n",
    "cars = sqlCtx.createDataFrame(jsonRDD)\n",
    "\n",
    "cars"
   ]
  },
  {
   "cell_type": "code",
   "execution_count": 14,
   "id": "fa05d000",
   "metadata": {},
   "outputs": [
    {
     "name": "stdout",
     "output_type": "stream",
     "text": [
      "root\n",
      " |-- brand: string (nullable = true)\n",
      " |-- models: map (nullable = true)\n",
      " |    |-- key: string\n",
      " |    |-- value: string (valueContainsNull = true)\n",
      "\n"
     ]
    }
   ],
   "source": [
    "#schema look\n",
    "cars.printSchema()"
   ]
  },
  {
   "cell_type": "code",
   "execution_count": 15,
   "id": "33d63740",
   "metadata": {},
   "outputs": [
    {
     "name": "stdout",
     "output_type": "stream",
     "text": [
      "+-----+--------------------+\n",
      "|brand|              models|\n",
      "+-----+--------------------+\n",
      "| Ford|{name -> Fiesta, ...|\n",
      "| Ford|{name -> Focus, p...|\n",
      "| Ford|{name -> Mustang,...|\n",
      "|  BMW|{name -> 320, pri...|\n",
      "|  BMW|{name -> X3, pric...|\n",
      "|  BMW|{name -> X5, pric...|\n",
      "| Fiat|{name -> 500, pri...|\n",
      "+-----+--------------------+\n",
      "\n"
     ]
    }
   ],
   "source": [
    "#print table\n",
    "cars.show()"
   ]
  },
  {
   "cell_type": "code",
   "execution_count": 16,
   "id": "ed7214c7",
   "metadata": {},
   "outputs": [
    {
     "data": {
      "text/plain": [
       "Row(brand='Ford', models={'name': 'Fiesta', 'price': '14260'})"
      ]
     },
     "execution_count": 16,
     "metadata": {},
     "output_type": "execute_result"
    }
   ],
   "source": [
    "#first record\n",
    "cars.first()"
   ]
  },
  {
   "cell_type": "markdown",
   "id": "74bb10b9",
   "metadata": {},
   "source": [
    "### Dataframe Making 2 - with SQLContext"
   ]
  },
  {
   "cell_type": "code",
   "execution_count": 17,
   "id": "740ba205",
   "metadata": {},
   "outputs": [
    {
     "data": {
      "text/plain": [
       "DataFrame[brand: string, models: struct<name:string,price:string>]"
      ]
     },
     "execution_count": 17,
     "metadata": {},
     "output_type": "execute_result"
    }
   ],
   "source": [
    "cars = sqlCtx.read.json(\"./cars.json\")\n",
    "cars.registerTempTable(\"cars\")\n",
    "\n",
    "cars"
   ]
  },
  {
   "cell_type": "code",
   "execution_count": 18,
   "id": "ec12c565",
   "metadata": {},
   "outputs": [
    {
     "name": "stdout",
     "output_type": "stream",
     "text": [
      "root\n",
      " |-- brand: string (nullable = true)\n",
      " |-- models: struct (nullable = true)\n",
      " |    |-- name: string (nullable = true)\n",
      " |    |-- price: string (nullable = true)\n",
      "\n"
     ]
    }
   ],
   "source": [
    "cars.printSchema()"
   ]
  },
  {
   "cell_type": "code",
   "execution_count": 19,
   "id": "70767731",
   "metadata": {},
   "outputs": [
    {
     "name": "stdout",
     "output_type": "stream",
     "text": [
      "+-----+----------------+\n",
      "|brand|          models|\n",
      "+-----+----------------+\n",
      "| Ford| {Fiesta, 14260}|\n",
      "| Ford|  {Focus, 18825}|\n",
      "| Ford|{Mustang, 26670}|\n",
      "|  BMW|    {320, 40250}|\n",
      "|  BMW|     {X3, 41000}|\n",
      "|  BMW|     {X5, 60700}|\n",
      "| Fiat|    {500, 16495}|\n",
      "+-----+----------------+\n",
      "\n"
     ]
    }
   ],
   "source": [
    "cars.show()"
   ]
  },
  {
   "cell_type": "code",
   "execution_count": 20,
   "id": "5f2f1a0a",
   "metadata": {},
   "outputs": [
    {
     "data": {
      "text/plain": [
       "Row(brand='Ford', models=Row(name='Fiesta', price='14260'))"
      ]
     },
     "execution_count": 20,
     "metadata": {},
     "output_type": "execute_result"
    }
   ],
   "source": [
    "cars.first()"
   ]
  },
  {
   "cell_type": "markdown",
   "id": "5ff9da9b",
   "metadata": {},
   "source": [
    "#changes?"
   ]
  },
  {
   "cell_type": "markdown",
   "id": "616f3946",
   "metadata": {},
   "source": [
    "## DataFrame calc"
   ]
  },
  {
   "cell_type": "markdown",
   "id": "dad29abb",
   "metadata": {},
   "source": [
    "similar with SQL!"
   ]
  },
  {
   "cell_type": "code",
   "execution_count": 21,
   "id": "88b9ebd7",
   "metadata": {},
   "outputs": [
    {
     "name": "stdout",
     "output_type": "stream",
     "text": [
      "+-----+\n",
      "|brand|\n",
      "+-----+\n",
      "| Ford|\n",
      "| Ford|\n",
      "| Ford|\n",
      "|  BMW|\n",
      "|  BMW|\n",
      "|  BMW|\n",
      "| Fiat|\n",
      "+-----+\n",
      "\n"
     ]
    }
   ],
   "source": [
    "cars.select(\"brand\").show()"
   ]
  },
  {
   "cell_type": "code",
   "execution_count": 22,
   "id": "acedba68",
   "metadata": {},
   "outputs": [
    {
     "name": "stdout",
     "output_type": "stream",
     "text": [
      "+-----+\n",
      "|price|\n",
      "+-----+\n",
      "|14260|\n",
      "|18825|\n",
      "|26670|\n",
      "|40250|\n",
      "|41000|\n",
      "|60700|\n",
      "|16495|\n",
      "+-----+\n",
      "\n"
     ]
    }
   ],
   "source": [
    "#subtable/models\n",
    "cars.select(\"models.price\").show()"
   ]
  },
  {
   "cell_type": "code",
   "execution_count": 23,
   "id": "45ef7e4b",
   "metadata": {},
   "outputs": [
    {
     "name": "stdout",
     "output_type": "stream",
     "text": [
      "+-----+-------+-----+\n",
      "|brand|   name|price|\n",
      "+-----+-------+-----+\n",
      "| Ford| Fiesta|14260|\n",
      "| Ford|  Focus|18825|\n",
      "| Ford|Mustang|26670|\n",
      "|  BMW|    320|40250|\n",
      "|  BMW|     X3|41000|\n",
      "|  BMW|     X5|60700|\n",
      "| Fiat|    500|16495|\n",
      "+-----+-------+-----+\n",
      "\n"
     ]
    }
   ],
   "source": [
    "#column type change\n",
    "#subtable models flatten to brand level -> price to integer\n",
    "#new dataframe\n",
    "\n",
    "from pyspark.sql.types import IntegerType\n",
    "\n",
    "cars_flatten = cars.select(\"brand\", \"models.*\");\n",
    "cars_flatten = cars_flatten.withColumn(\"price\", \n",
    "                                       cars_flatten[\"price\"].cast(IntegerType()))\n",
    "\n",
    "cars_flatten.show()"
   ]
  },
  {
   "cell_type": "code",
   "execution_count": 24,
   "id": "295d08b8",
   "metadata": {},
   "outputs": [
    {
     "name": "stdout",
     "output_type": "stream",
     "text": [
      "+-----+-------+-----+\n",
      "|brand|   name|price|\n",
      "+-----+-------+-----+\n",
      "| Ford|Mustang|26670|\n",
      "|  BMW|    320|40250|\n",
      "|  BMW|     X3|41000|\n",
      "|  BMW|     X5|60700|\n",
      "+-----+-------+-----+\n",
      "\n"
     ]
    }
   ],
   "source": [
    "#compare\n",
    "\n",
    "cars_flatten.filter(cars_flatten[\"price\"] > 20000).show()"
   ]
  },
  {
   "cell_type": "code",
   "execution_count": 25,
   "id": "9610cde7",
   "metadata": {},
   "outputs": [
    {
     "name": "stdout",
     "output_type": "stream",
     "text": [
      "+-----+-----+\n",
      "|brand|count|\n",
      "+-----+-----+\n",
      "|  BMW|    3|\n",
      "| Fiat|    1|\n",
      "| Ford|    3|\n",
      "+-----+-----+\n",
      "\n"
     ]
    }
   ],
   "source": [
    "#count\n",
    "cars_flatten.groupBy(\"brand\").count().show()"
   ]
  },
  {
   "cell_type": "code",
   "execution_count": null,
   "id": "d6da2dd2",
   "metadata": {},
   "outputs": [],
   "source": []
  }
 ],
 "metadata": {
  "kernelspec": {
   "display_name": "Python 3",
   "language": "python",
   "name": "python3"
  },
  "language_info": {
   "codemirror_mode": {
    "name": "ipython",
    "version": 3
   },
   "file_extension": ".py",
   "mimetype": "text/x-python",
   "name": "python",
   "nbconvert_exporter": "python",
   "pygments_lexer": "ipython3",
   "version": "3.6.9"
  }
 },
 "nbformat": 4,
 "nbformat_minor": 5
}
